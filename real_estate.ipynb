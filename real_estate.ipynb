{
 "cells": [
  {
   "cell_type": "code",
   "execution_count": 10,
   "metadata": {},
   "outputs": [],
   "source": [
    "import pandas as pd\n",
    "import matplotlib.pyplot as plt\n",
    "import statsmodels.api as sm\n",
    "import numpy as np"
   ]
  },
  {
   "cell_type": "code",
   "execution_count": 11,
   "metadata": {},
   "outputs": [],
   "source": [
    "def generate_real_estate_forecast():\n",
    "    real_estate_df = pd.read_csv(\"real_estate_price.csv\")\n",
    "\n",
    "    # Prepare data\n",
    "    real_estate_df['Date'] = pd.to_datetime(real_estate_df['Date'])\n",
    "    real_estate_df.set_index('Date', inplace=True)\n",
    "    real_estate_df = real_estate_df.resample('M').interpolate(method='linear')\n",
    "\n",
    "    # Train models\n",
    "    real_estate_model = sm.tsa.ARIMA(real_estate_df, order=(1, 1, 0))\n",
    "    real_estate_result = real_estate_model.fit()\n",
    "\n",
    "    # Generate forecasts\n",
    "    real_estate_forecast = real_estate_result.predict(\n",
    "        start=len(real_estate_df), end=len(real_estate_df)+29, typ='levels')\n",
    "\n",
    "    return np.array(real_estate_forecast)"
   ]
  },
  {
   "cell_type": "code",
   "execution_count": 12,
   "metadata": {},
   "outputs": [
    {
     "name": "stdout",
     "output_type": "stream",
     "text": [
      "30\n"
     ]
    }
   ],
   "source": [
    "forecast = generate_real_estate_forecast()\n",
    "\n",
    "print(len(forecast))"
   ]
  }
 ],
 "metadata": {
  "kernelspec": {
   "display_name": "Python 3",
   "language": "python",
   "name": "python3"
  },
  "language_info": {
   "codemirror_mode": {
    "name": "ipython",
    "version": 3
   },
   "file_extension": ".py",
   "mimetype": "text/x-python",
   "name": "python",
   "nbconvert_exporter": "python",
   "pygments_lexer": "ipython3",
   "version": "3.8.10"
  },
  "orig_nbformat": 4
 },
 "nbformat": 4,
 "nbformat_minor": 2
}
