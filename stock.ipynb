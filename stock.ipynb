{
 "cells": [
  {
   "cell_type": "code",
   "execution_count": 13,
   "metadata": {},
   "outputs": [],
   "source": [
    "import pandas as pd\n",
    "import numpy as np"
   ]
  },
  {
   "cell_type": "code",
   "execution_count": 14,
   "metadata": {},
   "outputs": [],
   "source": [
    "def extrapolate_stock_prices(data_path, window_size=10):\n",
    "\n",
    "    # Load the dataset\n",
    "    data = pd.read_csv(data_path)\n",
    "\n",
    "    # Calculate the moving average\n",
    "    data['MA'] = data['Price'].rolling(window_size).mean()\n",
    "\n",
    "    # Extrapolate the next 31 days of prices based on the moving average and the average change\n",
    "    predictions = []\n",
    "    for i in range(31):\n",
    "        # Get the most recent window_size days of data\n",
    "        last_window = data.tail(window_size)\n",
    "\n",
    "        # Calculate the average change in price over the last window_size days\n",
    "        average_change = np.mean(np.diff(last_window['Price']))\n",
    "\n",
    "        # Extrapolate the next day's price based on the last moving average and the average change\n",
    "        if i == 0:\n",
    "            prediction = data['Price'].iloc[-1]\n",
    "        else:\n",
    "            # Update the window size based on the number of predictions made so far\n",
    "            window_size = min(i*2, len(data)-1)\n",
    "\n",
    "            # Calculate the new moving average and make the prediction\n",
    "            data['MA'] = data['Price'].rolling(window_size).mean()\n",
    "            prediction = data['MA'].iloc[-1] + average_change\n",
    "\n",
    "        # Append the prediction to the list of predictions\n",
    "        predictions.append(prediction)\n",
    "\n",
    "        # Update the dataset with the new prediction\n",
    "        new_date = pd.date_range(data['Date'].iloc[-1], periods=2, freq='D')[1]\n",
    "        new_data = pd.DataFrame(\n",
    "            {'Date': new_date, 'Price': prediction}, index=[data.index[-1]+1])\n",
    "        data = pd.concat([data, new_data], ignore_index=False)\n",
    "\n",
    "    # Return the predictions for the next 30 days\n",
    "    return predictions[1:]\n"
   ]
  },
  {
   "cell_type": "code",
   "execution_count": 15,
   "metadata": {},
   "outputs": [
    {
     "ename": "TypeError",
     "evalue": "extrapolate_stock_prices() got an unexpected keyword argument 'window_size'",
     "output_type": "error",
     "traceback": [
      "\u001b[0;31m---------------------------------------------------------------------------\u001b[0m",
      "\u001b[0;31mTypeError\u001b[0m                                 Traceback (most recent call last)",
      "Cell \u001b[0;32mIn[15], line 1\u001b[0m\n\u001b[0;32m----> 1\u001b[0m predictions \u001b[39m=\u001b[39m extrapolate_stock_prices(\u001b[39m'\u001b[39;49m\u001b[39mstock_price.csv\u001b[39;49m\u001b[39m'\u001b[39;49m, window_size\u001b[39m=\u001b[39;49m\u001b[39m15\u001b[39;49m)\n\u001b[1;32m      3\u001b[0m \u001b[39mprint\u001b[39m(\u001b[39mlen\u001b[39m(predictions))\n",
      "\u001b[0;31mTypeError\u001b[0m: extrapolate_stock_prices() got an unexpected keyword argument 'window_size'"
     ]
    }
   ],
   "source": [
    "'stock_price.csv'predictions = extrapolate_stock_prices(, window_size=15)\n",
    "\n",
    "print(len(predictions))"
   ]
  }
 ],
 "metadata": {
  "kernelspec": {
   "display_name": "Python 3",
   "language": "python",
   "name": "python3"
  },
  "language_info": {
   "codemirror_mode": {
    "name": "ipython",
    "version": 3
   },
   "file_extension": ".py",
   "mimetype": "text/x-python",
   "name": "python",
   "nbconvert_exporter": "python",
   "pygments_lexer": "ipython3",
   "version": "3.8.10"
  },
  "orig_nbformat": 4
 },
 "nbformat": 4,
 "nbformat_minor": 2
}
